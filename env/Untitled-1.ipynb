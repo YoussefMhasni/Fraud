{
 "cells": [
  {
   "cell_type": "code",
   "execution_count": 1,
   "metadata": {},
   "outputs": [],
   "source": [
    "import pandas as pd\n",
    "df=pd.read_csv('env/testdfScaled.csv',header=0)"
   ]
  },
  {
   "cell_type": "code",
   "execution_count": 4,
   "metadata": {},
   "outputs": [],
   "source": [
    "df=df.drop(['isFraud','Unnamed: 0'],axis=1)"
   ]
  },
  {
   "cell_type": "code",
   "execution_count": 4,
   "metadata": {},
   "outputs": [],
   "source": [
    "df=df.drop('Unnamed: 0',axis=1)"
   ]
  },
  {
   "cell_type": "code",
   "execution_count": 20,
   "metadata": {},
   "outputs": [],
   "source": [
    "import csv\n",
    "with open('env/testdfScaled.csv', 'r') as f:\n",
    "    # Create a CSV reader\n",
    "    reader = csv.reader(f)\n",
    "    for row in reader:\n",
    "        x=row"
   ]
  },
  {
   "cell_type": "code",
   "execution_count": 21,
   "metadata": {},
   "outputs": [
    {
     "name": "stdout",
     "output_type": "stream",
     "text": [
      "['8261', '1.0', '0.0', '0.0343245548152326', '0.0', '1.0', '0.0357596899052512', '0.0045871559633027', '1.0', '0.1148356232630447', '0.0181818181818181', '0.8217468805704099', '0.4298245614035088', '0.0', '0.0', '0.1085671108047048', '0.5403225806451613', '1.0', '0.75', '0.7169811320754718', '0.0', '0.0178571428571428', '0.0', '0.2222222222222222', '0.0', '0.0476190476190476', '1.0', '0.0', '0.0', '0.106060606060606', '0.0212765957446808', '0.0', '0.0113636363636363', '0.4756394792867235', '0.0', '0.5901639344262295', '0.9689922480620154', '1.0', '0.5909090909090909', '0.0', '0.0', '0.0', '0.0', '0.0', '0.0', '0.0', '0.0238805970149253', '0.0', '0.0333333333333333', '0.0175438596491228', '0.0', '1.0']\n"
     ]
    }
   ],
   "source": [
    "print(x)"
   ]
  },
  {
   "cell_type": "code",
   "execution_count": 6,
   "metadata": {},
   "outputs": [
    {
     "data": {
      "text/html": [
       "<div>\n",
       "<style scoped>\n",
       "    .dataframe tbody tr th:only-of-type {\n",
       "        vertical-align: middle;\n",
       "    }\n",
       "\n",
       "    .dataframe tbody tr th {\n",
       "        vertical-align: top;\n",
       "    }\n",
       "\n",
       "    .dataframe thead th {\n",
       "        text-align: right;\n",
       "    }\n",
       "</style>\n",
       "<table border=\"1\" class=\"dataframe\">\n",
       "  <thead>\n",
       "    <tr style=\"text-align: right;\">\n",
       "      <th></th>\n",
       "      <th>id_33_5</th>\n",
       "      <th>V156</th>\n",
       "      <th>TransactionDT</th>\n",
       "      <th>id_35_1</th>\n",
       "      <th>id_35_2</th>\n",
       "      <th>TransactionAmt</th>\n",
       "      <th>V187</th>\n",
       "      <th>id_30_3</th>\n",
       "      <th>id_02</th>\n",
       "      <th>V201</th>\n",
       "      <th>...</th>\n",
       "      <th>id_33_12</th>\n",
       "      <th>V162</th>\n",
       "      <th>id_33_3</th>\n",
       "      <th>R_emaildomain_9</th>\n",
       "      <th>V232</th>\n",
       "      <th>V226</th>\n",
       "      <th>V189</th>\n",
       "      <th>V243</th>\n",
       "      <th>V256</th>\n",
       "      <th>isFraud</th>\n",
       "    </tr>\n",
       "  </thead>\n",
       "  <tbody>\n",
       "    <tr>\n",
       "      <th>1</th>\n",
       "      <td>1.0</td>\n",
       "      <td>0.013501</td>\n",
       "      <td>0.389879</td>\n",
       "      <td>0.0</td>\n",
       "      <td>1.0</td>\n",
       "      <td>0.019175</td>\n",
       "      <td>0.013761</td>\n",
       "      <td>1.0</td>\n",
       "      <td>0.055341</td>\n",
       "      <td>0.054545</td>\n",
       "      <td>...</td>\n",
       "      <td>0.0</td>\n",
       "      <td>0.0</td>\n",
       "      <td>0.0</td>\n",
       "      <td>0.0</td>\n",
       "      <td>0.002985</td>\n",
       "      <td>0.0</td>\n",
       "      <td>0.1</td>\n",
       "      <td>0.035088</td>\n",
       "      <td>0.011494</td>\n",
       "      <td>1.0</td>\n",
       "    </tr>\n",
       "  </tbody>\n",
       "</table>\n",
       "<p>1 rows × 51 columns</p>\n",
       "</div>"
      ],
      "text/plain": [
       "   id_33_5      V156  TransactionDT  id_35_1  id_35_2  TransactionAmt  \\\n",
       "1      1.0  0.013501       0.389879      0.0      1.0        0.019175   \n",
       "\n",
       "       V187  id_30_3     id_02      V201  ...  id_33_12  V162  id_33_3  \\\n",
       "1  0.013761      1.0  0.055341  0.054545  ...       0.0   0.0      0.0   \n",
       "\n",
       "   R_emaildomain_9      V232  V226  V189      V243      V256  isFraud  \n",
       "1              0.0  0.002985   0.0   0.1  0.035088  0.011494      1.0  \n",
       "\n",
       "[1 rows x 51 columns]"
      ]
     },
     "execution_count": 6,
     "metadata": {},
     "output_type": "execute_result"
    }
   ],
   "source": [
    "df[1:2]"
   ]
  },
  {
   "cell_type": "code",
   "execution_count": 37,
   "metadata": {},
   "outputs": [],
   "source": [
    "for x in df[9:12]:\n",
    "    x\n"
   ]
  }
 ],
 "metadata": {
  "kernelspec": {
   "display_name": "Python 3",
   "language": "python",
   "name": "python3"
  },
  "language_info": {
   "codemirror_mode": {
    "name": "ipython",
    "version": 3
   },
   "file_extension": ".py",
   "mimetype": "text/x-python",
   "name": "python",
   "nbconvert_exporter": "python",
   "pygments_lexer": "ipython3",
   "version": "3.10.9 (tags/v3.10.9:1dd9be6, Dec  6 2022, 20:01:21) [MSC v.1934 64 bit (AMD64)]"
  },
  "orig_nbformat": 4,
  "vscode": {
   "interpreter": {
    "hash": "17e6eccdee320bac895a94fe626411c28ea808d759ddf96410dfa6b312a563e4"
   }
  }
 },
 "nbformat": 4,
 "nbformat_minor": 2
}
